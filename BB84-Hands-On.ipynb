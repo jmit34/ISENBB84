{
 "cells": [
  {
   "cell_type": "markdown",
   "metadata": {},
   "source": [
    "# Quantum Cryptography : BB84 protocol \n",
    "\n",
    "**[BB84](https://en.wikipedia.org/wiki/BB84)** protocol was set up in 1984 by one of our famous IBM'ers Charles Bennett with his colleague Gilles Brassard. \n",
    "It has been experimented a few years later in the first demonstration of quantum key distribution  : [quantum key distribution](https://en.wikipedia.org/wiki/Quantum_key_distribution) by Charles Bennett and John Smolin in IBM [C. H. Bennett, F. Bessette, G. Brassard, L. Salvail, and J. Smolin, J. of Cryptography **5**, 3 (1992) ]. Charles and John are still part of the quantum IBM team. \n",
    "\n",
    "<img src=\"charlie_john_qkd.jpg\" width=\"400\"/>\n",
    "<center>Charles Bennett and John Smolin at T.J. Watson IBM research center.</center>\n",
    "\n",
    "BB84 protocol allows to communicate a cryptographie key from one point to another and knowing that it has not been compromised. \n",
    "\n",
    "\n",
    "## BB84 Protocol \n",
    "\n",
    "The steps are the following : \n",
    "\n",
    "1. Alice chooses two random bit strings of length  $n$ : $k$ and $b$. The list $k$ has the key value. The list $b$ represents the bases choice for Alice to encode the bits of $k$. When  $b_i=0$ (meaning if the  $i^{th}$ base bit is zero ), she encodes the $i^{th}$ qubit in the standard base $\\{|0\\rangle, |1\\rangle \\}$, and if $b_i=1$, she uses the base  $\\{|+\\rangle, |-\\rangle \\}$, where $|+\\rangle:=\\frac{1}{\\sqrt{2}}(|0\\rangle +|1\\rangle)$, $|-\\rangle:=\\frac{1}{\\sqrt{2}}(|0\\rangle -|1\\rangle)$. \n",
    "\n",
    "This can be showned as follows : \n",
    "\n",
    "\n",
    "<img src=\"encoding_Alice.png\" alt=\"drawing\" width=\"300\"/>\n",
    "\n",
    "2. After endoding $n$ bits, Alice sends them to Bob. He chooses a random bit string $\\tilde{b}$ of length $n$ for the measurement bases he will be using. Bob records his measurement results  $\\tilde{k_i}$ along with the bases used $\\tilde{b_i}$, in an array.\n",
    "\n",
    "3. Then Alice and Bob compare their bases $b_i$ and $\\tilde{b}_i$. Whenever  $b_i \\neq \\tilde{b}_i$, Bob did not measure in the same base Alice did encode. The probability of having measured the correct value for $k_i$ is $\\frac{1}{2}$, in this case this position is discarded. Howeever, if $b_i = \\tilde{b}_i$, then the qubit was preepared and measured in the same basis (and if noboby did spy on the communication) Bob did measure a correct value : $\\tilde{k}_i = k_i$. These values make the key \n",
    "\n",
    "## Example : \n",
    "\n",
    "Let's assume Alice random key value is :  $k=`0111001`$ and her bases choice : $b=`1101000`$, and let's assume Bob's bases are : $\\tilde{b}=`1001101`$. Look at the values below and note that when bases eare not hte same Bob has one chance out of two to get a correct measurement. \n",
    "<img src=\"example_bb84.png\" alt=\"drawing\" width=\"300\"/>\n",
    "\n",
    "In this case, the key is '0110', and to know if it has been seen by Eve, Alice and Bob will have to sacrifice some of theses bits. If a measurement was made during the distribution, le qubit state would have change with probability $\\frac{1}{4}$. By verifying $m$ bits values, the probability of not detecting Eve decays as $\\left(\\frac{3}{4}\\right)^m$. So if the verify enough bits, they will gain confidence that Eve did not spy. \n",
    "\n",
    "### Message encryption\n",
    "\n",
    "One the key is known and secretely has been secretly distributed, Alice and Bob can use it very easily  :  [Masque Jetable](https://fr.wikipedia.org/wiki/Masque_jetable) : Alice just adds bitwise modulo 2 the two lists.  (in other words she performs bitwise XOR). With the above example, key is $\\text{key}=`0110`$. Secret message is $m=`1100`$, so encrypted message is : $c=m\\oplus \\text{key (mod 2)} = `1010`$. Bob can decipher in doing the same thing : add the key to the message : $m=c\\oplus \\text{key (mod 2)}$.\n",
    "\n",
    "## workshop : \n",
    "\n",
    "In this notebook you will be in Bob's role, and with Alice you will generate a key unsing BB84 protocol, then you will beable to decodee Alice's message.\n",
    "\n",
    "---\n",
    "\n",
    "There will be 4 steps : \n",
    "\n",
    "1. Alice prepares her key and bases. The function (provided) `alice_prepare_qubit` is used to send to you the qubits states. \n",
    "\n",
    "2. Bob (you) measure the recevied qubit states in your basis list, you will have to code the function  `build_bob_measure_circuit`. This function receives an index to point in the qubits and in Bob's basis list as well as in the quantum circuit list (which has prepared Alice's qubit state). The function returns a quantum circuit which can be appended to Alice's circuit used to prepare her qubit. Bob circuit simply performs a measure about Bob's base, for each index position. \n",
    "\n",
    "3. Then you will have to build the code for making the key Alice and Bob will agree on (by discarding the values that have been emitted and received on non identical basis).\n",
    "\n",
    "4. Finally, we will be able to write the function to decipher Alice's massage with the key. You generate a bit string, which is a morse code text, you will need to make it readable. \n",
    "\n",
    "---\n",
    "\n",
    "This workhop is derived from the IBM Quantum Computing Challenge, on may 4th, 2020. "
   ]
  },
  {
   "cell_type": "markdown",
   "metadata": {},
   "source": [
    "### Setup"
   ]
  },
  {
   "cell_type": "code",
   "execution_count": 1,
   "metadata": {
    "scrolled": true
   },
   "outputs": [],
   "source": [
    "# import libraries\n",
    "import BB84HO\n",
    "from random import randint\n",
    "from qiskit import QuantumCircuit, execute, Aer\n",
    "backend = Aer.get_backend('qasm_simulator')\n",
    "\n",
    "bases_length = 1600"
   ]
  },
  {
   "cell_type": "markdown",
   "metadata": {},
   "source": [
    "### Alice prepares her key and her bases"
   ]
  },
  {
   "cell_type": "code",
   "execution_count": 2,
   "metadata": {
    "scrolled": true
   },
   "outputs": [],
   "source": [
    "# clef aléatoire\n",
    "alice_key = \"\"\n",
    "for i in range(bases_length): \n",
    "    alice_key += str(randint(0,1))\n",
    "\n",
    "# bases aléatoires\n",
    "alice_bases = \"\"\n",
    "for i in range(bases_length):\n",
    "    if randint(0,1):\n",
    "        alice_bases += \"z\"\n",
    "    else:\n",
    "        alice_bases += \"x\""
   ]
  },
  {
   "cell_type": "markdown",
   "metadata": {},
   "source": [
    "### Bob prepares his bases : "
   ]
  },
  {
   "cell_type": "code",
   "execution_count": 3,
   "metadata": {
    "scrolled": true
   },
   "outputs": [
    {
     "name": "stdout",
     "output_type": "stream",
     "text": [
      "Bob's bases : zzzzxxxxxzzzxzxxxxxxxzxxzzzzzzzzzzxzzzxzxzxzxxxzxxzzxzzxzzxxxzxzzxzzxxzxzzxzzzzzxzzxzxxzxzxxzxzxzxxzzxzzzzzxxxzxxxzxzzxzxxxzzzxxxxzxzzxxzzxzxzxzzzxzxzxxzzxzzxzxzxzxzxxxzzzzxzzzxxxxzzxzzzzzxzxxxxxxzzxxzxzzzxxzzxxzzzxxxxzzxxzxxxzxzxzzxzzxxzzzzxzzxxxxxxxzxzzzzzxxzzxzzxzxzzzxxzzzzzxxzzzzxxzxxzzzzxxxzxzzzzzxzxzxxxxzzxzzzzzxzxzxzxxzxxxxzzxxxxxzxzzzzzzxzzzxxxzzxxxzxzzxzxzzxxxxxzxxzxxxzzxxzxzxxxzzxzxzxzxxzxxxxxzxxxzxxzxzzxzxxzzzxxxxzzxzxxxzzzzxzxzzzxxzxxxzxxxxzzzxzzzxxxzxzzxxxxxzzzzzxxxxzzxzzzzxxxzzzxzxxzxxxzxzzxxzzzxxxxxzxzzzxzxzzzzzzxzxzxzzxzzzzxzxzxzzxxzzxzxzzxxzxxxzzxzxzzxzzxxxxzzxxxxzzxzxzzzzzxzxzzxzxxxxxzzzzzxzzzzzxzxzzzzzzzxxxxzzxzxzxxzzzxzxxzxxzxxzxzxzzxxzzxxxzxxzzzxzxxxzxxzxzzxxzzxzzzxxxzxzxzxzzxzxxxxzxzxxxzxxzxzzzzxzxzzzzxzzzzxzzzzzzxzzzzzzzzxxzxzzzxzxxxxxxzxzzxxzzzzzxzxzzzxzzxzxzzzxzxxxzzzxxzzzzzxxxzzxxzzzxxzzxzzxzxzxzxzxxzxzxzxzxzxxzxxzxxxzzxxzzxzxzxzxxxzxzxxzxxzxxzxzzxxxxxzzzzzzxzzzzxzxxxxzxzxxzzxxxxxxxxzxzzxzzzxzxxxxxxzzxzzxzxzxzzzzxzzxxzxxzxxzzxxzxzzxxzzzxxxxzxzzxxxxxxxzzxxxxxxxzxzzzxxzzxxzzzxxxzxzzzxxzxxxxzxzxxzxzxxxzzzzxxxxxxzxxzzzxxxxxxzxxzzxxzzzxzxzxzzxxzzxzzzxxzxxxzxzxzzxxxzzzxxxxxxzzxzzzzzzxzxzzxxzzxzxzxxzxzxxxxxzxxzzxxxzxxzzxzzzzxxzxxzxzxxzzxzzxzxxzzzzzzxxxzzzxxzzxxxzzxzxxxxxzzzxzxxxzxxzzxxzzxzzzxzzxzzzzxxzzzxzxzxxxxxxxxxxzzzzxzxzxxzzxzxxxzxxzzzzxzxxzzzzxzxzzzzzxzzxxzzzxxzzxxxxxzxxxxxzzzzzxxxzxxzxxxzzzxzxxxzzzzxzzzzxxzzxxzxzxxzxxxxxxzzzxxxxxzzxxxxzzxxzzxzxzzxzzxxxxzxxxzxxzzzzzzxzxzxzzxzxzzzzzzzxzzzzzxzxxzxxzzzzxzxzxzzxzzzxxzzxxxxzzzzxxxzxzzxxzzxzzzzzzxzzxxxxzzzzzzzxzzzxzxxzxzzxzzxxzzzzzzzzzzxzzzxzzzxxzxzzxzzzxzzzzxzzzzxxzxxxxzxzxxzzxxxxzxxxzxxxzxzzxzzxxxxzxzzx\n"
     ]
    }
   ],
   "source": [
    "bob_bases = \"\"\n",
    "for i in range(bases_length):\n",
    "    if randint(0,1):\n",
    "        bob_bases += \"z\"\n",
    "    else:\n",
    "        bob_bases += \"x\"\n",
    "        \n",
    "print('Bob\\'s bases :', bob_bases)"
   ]
  },
  {
   "cell_type": "markdown",
   "metadata": {},
   "source": [
    "### Now Bob performs the measurements (with his bases) on states prepared by Alice (with her key and bases): \n"
   ]
  },
  {
   "cell_type": "code",
   "execution_count": 4,
   "metadata": {},
   "outputs": [
    {
     "name": "stdout",
     "output_type": "stream",
     "text": [
      "Bob's bases: zzzzxxxxxzzzxzxxxxxxxzxxzzzzzzzzzzxzzzxzxzxzxxxzxxzzxzzxzzxxxzxzzxzzxxzxzzxzzzzzxzzxzxxzxzxxzxzxzxxzzxzzzzzxxxzxxxzxzzxzxxxzzzxxxxzxzzxxzzxzxzxzzzxzxzxxzzxzzxzxzxzxzxxxzzzzxzzzxxxxzzxzzzzzxzxxxxxxzzxxzxzzzxxzzxxzzzxxxxzzxxzxxxzxzxzzxzzxxzzzzxzzxxxxxxxzxzzzzzxxzzxzzxzxzzzxxzzzzzxxzzzzxxzxxzzzzxxxzxzzzzzxzxzxxxxzzxzzzzzxzxzxzxxzxxxxzzxxxxxzxzzzzzzxzzzxxxzzxxxzxzzxzxzzxxxxxzxxzxxxzzxxzxzxxxzzxzxzxzxxzxxxxxzxxxzxxzxzzxzxxzzzxxxxzzxzxxxzzzzxzxzzzxxzxxxzxxxxzzzxzzzxxxzxzzxxxxxzzzzzxxxxzzxzzzzxxxzzzxzxxzxxxzxzzxxzzzxxxxxzxzzzxzxzzzzzzxzxzxzzxzzzzxzxzxzzxxzzxzxzzxxzxxxzzxzxzzxzzxxxxzzxxxxzzxzxzzzzzxzxzzxzxxxxxzzzzzxzzzzzxzxzzzzzzzxxxxzzxzxzxxzzzxzxxzxxzxxzxzxzzxxzzxxxzxxzzzxzxxxzxxzxzzxxzzxzzzxxxzxzxzxzzxzxxxxzxzxxxzxxzxzzzzxzxzzzzxzzzzxzzzzzzxzzzzzzzzxxzxzzzxzxxxxxxzxzzxxzzzzzxzxzzzxzzxzxzzzxzxxxzzzxxzzzzzxxxzzxxzzzxxzzxzzxzxzxzxzxxzxzxzxzxzxxzxxzxxxzzxxzzxzxzxzxxxzxzxxzxxzxxzxzzxxxxxzzzzzzxzzzzxzxxxxzxzxxzzxxxxxxxxzxzzxzzzxzxxxxxxzzxzzxzxzxzzzzxzzxxzxxzxxzzxxzxzzxxzzzxxxxzxzzxxxxxxxzzxxxxxxxzxzzzxxzzxxzzzxxxzxzzzxxzxxxxzxzxxzxzxxxzzzzxxxxxxzxxzzzxxxxxxzxxzzxxzzzxzxzxzzxxzzxzzzxxzxxxzxzxzzxxxzzzxxxxxxzzxzzzzzzxzxzzxxzzxzxzxxzxzxxxxxzxxzzxxxzxxzzxzzzzxxzxxzxzxxzzxzzxzxxzzzzzzxxxzzzxxzzxxxzzxzxxxxxzzzxzxxxzxxzzxxzzxzzzxzzxzzzzxxzzzxzxzxxxxxxxxxxzzzzxzxzxxzzxzxxxzxxzzzzxzxxzzzzxzxzzzzzxzzxxzzzxxzzxxxxxzxxxxxzzzzzxxxzxxzxxxzzzxzxxxzzzzxzzzzxxzzxxzxzxxzxxxxxxzzzxxxxxzzxxxxzzxxzzxzxzzxzzxxxxzxxxzxxzzzzzzxzxzxzzxzxzzzzzzzxzzzzzxzxxzxxzzzzxzxzxzzxzzzxxzzxxxxzzzzxxxzxzzxxzzxzzzzzzxzzxxxxzzzzzzzxzzzxzxxzxzzxzzxxzzzzzzzzzzxzzzxzzzxxzxzzxzzzxzzzzxzzzzxxzxxxxzxzxxzzxxxxzxxxzxxxzxzzxzzxxxxzxzzx\n",
      "Bob's bits:  1100001011101101000101101010011000100111011101111110110111010111010110111011110001001001010110101001000011111100011011110000110001100000100000010001001001000111001001101010010100100111000110010101110111110100010000001010001000001001100101101000100100010101000111010000100100000110001010110010000110100011101010111001100101011111101001100111110101111110100000101101011110111000101110010010010001010101111011011101111100000101000111001010010111111101111111010011100101010100110101100111011101010001001110110110110100101100101111111010100001001010001000111010101000111101110110000010101011001111100101101010011110100101111001001011110100000101000011000111001011100111011010011010000000101001001100101110101001101010110101110011000000111001011001110100010110010110111110011001001011000011010110010100111011000101100000101000000010001001100001101110011000001110011011010101001000011111110000111001010100111101100011101000000110011010010110001011000101110001110011101101001101000101110111000010001000010111100100101011011110010001011110010100000000011111110111111011010110110110011101001001110000010110001001011011101100011001010001011010011110111101111100010101111110101100101111100111000110100011100111101001100000011010011111000111010011110111101100010100101111111000001101010100001011110000100001001001011100001010010000011000010100011100010111110101010111010111100011101111000110101111001110000010110001010111100111010110101010110010111101100100101101001011001110110011110010010101010001111000000111101000011110000110110000110000011101111000011110100010100110100101001011110011001110010000111100111011\n"
     ]
    }
   ],
   "source": [
    "bob_results = \"\"\n",
    "\n",
    "def bb84():\n",
    "    print('Bob\\'s bases:', bob_bases)\n",
    "\n",
    "    # now Alice prepares her qubits one at a time, using her basis list, \n",
    "    # Bob measures, using his basis list.\n",
    "    bob_results = \"\"\n",
    "    \n",
    "    # for each bit\n",
    "    for index in range(bases_length):  # on va faire ceci 1600 fois une fois pour chaque état\n",
    "        # Alice create her qubit state\n",
    "        thisqubit_circuit = BB84HO.prepare_alice_qubit(index, alice_bases, alice_key)\n",
    "        \n",
    "        # Bob prepares for measure (function to be coded below) \n",
    "        bob_circ = build_bob_circuit(index, bob_bases, thisqubit_circuit)\n",
    "        \n",
    "        # now we execute and measure on the simulator \n",
    "        bob_job = execute(bob_circ, backend=backend, shots=1)\n",
    "        bob_reading = bob_job.result()\n",
    "        \n",
    "        # for each result we build the list\n",
    "        bob_results += list(bob_reading.get_counts(bob_circ))[0]\n",
    "    return bob_results\n",
    "\n",
    "# this is the function to be writen : \n",
    "# you need to \"continue\" a quantum cicruit sent by Alice (qc) using one qubit so that you\n",
    "# make the measurement using Bob's basis at index = index.\n",
    "# the function returns the quantum circuit. \n",
    "\n",
    "def build_bob_circuit(index, bob_bases, qc):    \n",
    "    # WRITE YOR CODE HERE --------\n",
    "  \n",
    "\n",
    "\n",
    "    # END ------------------------ \n",
    "    \n",
    "bob_bits = bb84()        \n",
    "print('Bob\\'s bits: ', bob_bits)\n"
   ]
  },
  {
   "cell_type": "markdown",
   "metadata": {},
   "source": [
    "### After Bob made his measurement, Alice and Bob share their bases: \n"
   ]
  },
  {
   "cell_type": "code",
   "execution_count": null,
   "metadata": {},
   "outputs": [],
   "source": [
    "print(\"alice_bases = \", alice_bases, \"\\n\")\n",
    "print(\"bob_bases   = \", bob_bases)"
   ]
  },
  {
   "cell_type": "markdown",
   "metadata": {},
   "source": [
    "### Now Alice and Bob can construct their key :\n",
    "They will keep only the bits corresponding to index where the bases were identical. \n"
   ]
  },
  {
   "cell_type": "code",
   "execution_count": 6,
   "metadata": {
    "scrolled": true
   },
   "outputs": [
    {
     "name": "stdout",
     "output_type": "stream",
     "text": [
      "794\n",
      "bob_key=  11011110001001010011101111010011111110101010111010000111010100101000000100100100010001000011010101111101001001001011000001001001111000100000100011011100001011111010111110101001011100101010101101111000001101000011011110011011010011000000111101101100111100011010011110001010110011101011010101100010000001001111011011000100001010010011000111101101100001000010101111110110000110001101001010010001100000010010110100000101101110011110001001001110000100011010011010100110110111010011101000001110010011100010000000011111111010111110110010001001100010111101110111110111110101111011011101001000011001110011111111000111000110100101100000001011011000011000110111101110111001011111111111000001010010011011010011011101101000110101110001000110000010000110101100100011011001110001010100101001101100111010011101\n",
      "ali_key=  11101110101101000101001111010111110110101110111010000101111100100101100101100110010111010000000101111011011111011111101101001001111001100000110011101100011101111110111100111001011110101011101001010000001101001011010101001111110001110110111101101101101100111011001010010011010111100111000111100010000001101110111101011001001110000101000111000101100001000110111111111110001000000100111101011011000100000010110100110001100110001110001011001110100110111010101110100110100101010111100001001010010011101010101101011111110010111110111110000011101110011011111011010010110100101010111111011000111001000101111011000011000111011100100000011011111001111000110111101110101001011101110111010011010110111111011111001011101000110100110001000111100010001100000010000011101000110111100100101100101101010111001101\n"
     ]
    }
   ],
   "source": [
    "# conserver les bits de la clef d'Alice (ou de ceux qu'a lu Bob) si et seulement si la base choisie\n",
    "# par Alice et la base choisie par Bob étaient les mêmes \n",
    "bob_key = \"\"\n",
    "ali_key = \"\"\n",
    "# START : write your code here \n",
    "for i in range(bases_length): \n",
    "    if bob_bases[i] == alice_bases[i]: \n",
    "        bob_key += bob_bits[i]\n",
    "        ali_key += alice_key[i]\n",
    "    \n",
    "\n",
    "# END ------------------------ \n",
    "\n",
    "\n",
    "print(len(bob_key))\n",
    "print(\"bob_key= \", bob_key)\n",
    "print(\"ali_key= \", ali_key)\n"
   ]
  },
  {
   "cell_type": "markdown",
   "metadata": {},
   "source": [
    "### Now Alice and Bob should have the same Key.... \n",
    "\n",
    "### let them verify using 50 first bits .... if Eve was listening\n",
    "\n",
    "Remember the probability of Eve listening and not being detected is $(\\frac{3}{4})^{50} \\approx 6.10^{-7}$\n"
   ]
  },
  {
   "cell_type": "code",
   "execution_count": null,
   "metadata": {},
   "outputs": [],
   "source": [
    "print(ali_key[0:50])\n",
    "print(bob_key[0:50])\n",
    "err_count = 0\n",
    "for i in range(50):\n",
    "    if ali_key[i] !=  bob_key[i]:\n",
    "        err_count += 1 \n",
    "print(err_count)\n",
    "\n",
    "if err_count > 3: \n",
    "    print(\"Attention attention attention !!! \")\n",
    "    print(\"Eve a écouté, il faut tout recommencer\") \n",
    "    print(\"il faut redémarrer l'éxecution -> restart kernel\")\n",
    "else:\n",
    "    print(\"Bonne nouvelle, Eve n'a pas écouté, \")\n",
    "    print(\"mais attention, les 50 premiers bits\")\n",
    "    print(\"de la clef ont été communiqués en clair,\")\n",
    "    print(\"il ne faut pas s'en servir\")"
   ]
  },
  {
   "cell_type": "code",
   "execution_count": null,
   "metadata": {},
   "outputs": [],
   "source": [
    "# dans cette celulle modifiez bob_key et ali_key pour enlever les 50 premiers bits qui ont été compromis\n",
    "\n",
    "\n",
    "#"
   ]
  },
  {
   "cell_type": "markdown",
   "metadata": {},
   "source": [
    "### Now Alice can use the key to encode her message : \n",
    "\n",
    "execute the following cell"
   ]
  },
  {
   "cell_type": "code",
   "execution_count": null,
   "metadata": {},
   "outputs": [],
   "source": [
    "mess = BB84HO.code(BB84HO.alice_message_clair, ali_key)\n",
    "\n",
    "print(mess)\n",
    "print(len(mess))"
   ]
  },
  {
   "cell_type": "markdown",
   "metadata": {},
   "source": [
    "### Function to decode the message using the key: "
   ]
  },
  {
   "cell_type": "code",
   "execution_count": null,
   "metadata": {},
   "outputs": [],
   "source": [
    "# this is Alice message : print(\"message :\", mess)\n",
    "print(len(mess))\n",
    "\n",
    "# here we decode Alice message, using our key\n",
    "def decode(message,clef):\n",
    "       \n",
    "    # ensuite composez le message \"en clair\" en faisant le XOR bit à bit entre le message et la clef\n",
    "    # il s'agit de l'addition bit à bit : (a + b) % 2 , si a vaut 0 ou 1 et b vaut 0 ou 1. \n",
    "    # retournez la variable \"clair\" contenant le message décodé\n",
    "    \n",
    "    # START : write your code here \n",
    "   \n",
    "\n",
    "\n",
    "\n",
    "\n",
    "    \n",
    "    # END ------------------------ \n",
    "\n",
    "    \n",
    "clair = decode(mess,bob_key)\n",
    "clair = clair.rstrip(\"0\")\n",
    "print(\"clair :\" ,clair)"
   ]
  },
  {
   "cell_type": "markdown",
   "metadata": {},
   "source": [
    "Message is in morse code :\n",
    "\n",
    "- point : '1' (\"ti\")\n",
    "- dash : '11' (\"ta\")\n",
    "- separator : '0'\n",
    "- letter separator :  '00'\n",
    "- word separator: '000'.\n",
    "\n",
    "For example :\n",
    "<img src=\"qiskit_morse.png\" alt=\"drawing\" width=\"500\"/>"
   ]
  },
  {
   "cell_type": "markdown",
   "metadata": {},
   "source": [
    "### Try and decode Alice message  !\n",
    "\n",
    "One usefull Python method can be \"split()\" : `string.split(separator, maxsplit)`\n",
    "\n",
    "You may \"split\" the string into a word list `texte.split(\"000\")`, then split words into letters with `mot.split(\"00\")`, finally split letters into signs (\"ti\" and \"ta\"), then pick up each letter from the provided dictionnary to display the message. \n"
   ]
  },
  {
   "cell_type": "code",
   "execution_count": null,
   "metadata": {},
   "outputs": [],
   "source": [
    "M = { '.-':'a', '-...':'b', '-.-.':'c', '-..':'d', '.':'e', '..-.':'f', '--.':'g', \n",
    "     '....':'h', '..':'i', '.---':'j', '-.-':'k', '.-..':'l', '--':'m', '-.':'n',\n",
    "     '---':'o', '.--.':'p', '--.-':'q', '.-.':'r', '...':'s', '-':'t', '..-':'u',\n",
    "     '...-':'v', '.--':'w', '-..-':'x', '-.--':'y', '--..':'z', '.----':'1', \n",
    "     '..---':'2', '...--':'3', '....-':'4', '.....':'5', '-....':'6', '--...':'7',\n",
    "     '---..':'8', '----.':'9', '-----':'0', '--..--':',', '.-.-.-':'.', '..--..':'?',\n",
    "     '-..-.':'/', '-....-':'-', '--..--':',', '---...':':', '-.--.':'(', '-.--.-':')',\n",
    "     '..-..':'é','.--.-':'à', '-.-.--':'!'} \n",
    "\n",
    "# ecrivez une fonction qui rend lisible le code morse de \"clair\"\n",
    "\n",
    "\n",
    "\n",
    "# END ------------------------ "
   ]
  }
 ],
 "metadata": {
  "kernelspec": {
   "display_name": "Python 3 (ipykernel)",
   "language": "python",
   "name": "python3"
  },
  "language_info": {
   "codemirror_mode": {
    "name": "ipython",
    "version": 3
   },
   "file_extension": ".py",
   "mimetype": "text/x-python",
   "name": "python",
   "nbconvert_exporter": "python",
   "pygments_lexer": "ipython3",
   "version": "3.8.5"
  }
 },
 "nbformat": 4,
 "nbformat_minor": 4
}
